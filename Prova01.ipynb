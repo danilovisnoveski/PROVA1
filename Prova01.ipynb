{
 "cells": [
  {
   "cell_type": "code",
   "execution_count": null,
   "id": "61b0a772-2290-4f8f-a88c-f637dfc9cb3a",
   "metadata": {},
   "outputs": [
    {
     "name": "stdout",
     "output_type": "stream",
     "text": [
      "vou te pedir 3 valores, preciso que sejam valores inteiros e positivos\n",
      " SE NÃO ME DER UM VALOR INTEIRO, O SEU PC VAI EXPLODIR\n",
      "--------------------------------------\n"
     ]
    }
   ],
   "source": [
    "print(\"vou te pedir 3 valores, preciso que sejam valores inteiros e positivos\")\n",
    "print(\" SE NÃO ME DER UM VALOR INTEIRO, O SEU PC VAI EXPLODIR\")\n",
    "print(\"--------------------------------------\")\n",
    "x = int(input(\"me dê 1 valor inteiro\"))\n",
    "y = int(input(\"me dê mais 1 valor inteiro\"))\n",
    "z = int(input(\"me dê outro valor inteiro\"))\n",
    "if x < 1:\n",
    "    print(\"me dê um número positivo, meu amigo\") \n",
    "        \n",
    "elif y < 1:\n",
    "    print(\"me dê um número positivo, meu amigo\")\n",
    "\n",
    "elif z < 1:\n",
    "    print(\"me dê um número positivo, meu amigo\")\n",
    "\n",
    "\n",
    "print(\"---------------------------------------\")\n",
    "\n",
    "\n",
    "if x > y > z:\n",
    "    x + y / 2 == media\n",
    "    print(media)\n",
    "\n",
    "else: ()\n",
    "\n",
    "if x > z > y:\n",
    "    x + z / 2 == media\n",
    "    print(media)\n",
    "\n",
    "else: ()\n",
    "\n",
    "if y > x > z:\n",
    "    y + x / 2 == media\n",
    "    print(media)\n",
    "\n",
    "else: ()\n",
    "\n",
    "if y > z > z:\n",
    "    y + z / 2 == media\n",
    "    print(media)\n",
    "\n",
    "else: ()\n",
    "\n",
    "if z > x > z:\n",
    "    z + x / 2 == media\n",
    "    print(media)\n",
    "\n",
    "else: ()\n",
    "\n",
    "if z > y > z:\n",
    "    z + y / 2 == media\n",
    "    print(media)\n",
    "\n",
    "\n",
    "\n",
    "print(f\"Essa é a minha mágica, a média aritmética dos dois maiores valores que você me mandou é  {media}\")\n",
    "\n",
    "\n",
    "#ADICIONEI A STRING \"media = 0\" mas não consegui também, sempre dava 0."
   ]
  },
  {
   "cell_type": "code",
   "execution_count": null,
   "id": "f7523f89-573d-40d8-b688-992f3670a87d",
   "metadata": {},
   "outputs": [],
   "source": []
  },
  {
   "cell_type": "code",
   "execution_count": null,
   "id": "b76025e9-bc35-4753-955c-5affc3ea7bb5",
   "metadata": {},
   "outputs": [],
   "source": []
  }
 ],
 "metadata": {
  "kernelspec": {
   "display_name": "Python 3 (ipykernel)",
   "language": "python",
   "name": "python3"
  },
  "language_info": {
   "codemirror_mode": {
    "name": "ipython",
    "version": 3
   },
   "file_extension": ".py",
   "mimetype": "text/x-python",
   "name": "python",
   "nbconvert_exporter": "python",
   "pygments_lexer": "ipython3",
   "version": "3.11.7"
  }
 },
 "nbformat": 4,
 "nbformat_minor": 5
}
